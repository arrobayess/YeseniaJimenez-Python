{
 "cells": [
  {
   "cell_type": "code",
   "execution_count": 5,
   "id": "19660e13",
   "metadata": {},
   "outputs": [
    {
     "name": "stdout",
     "output_type": "stream",
     "text": [
      "Nombre: jhkh\n",
      "Apellidos: ghf\n",
      "Edad: fh\n",
      "Domicilio: fh\n",
      "Clave de Elector: gh\n",
      "Curp: fgfh\n",
      "Fecha de nacimiento: ggfh\n",
      "Numero de seccion: fg\n",
      "Año de registro: hfdh\n",
      "Año de vigencia: fh\n",
      "Sexo: gfh\n",
      "\n",
      "Datos almacenados en el archivo:\n",
      "Nombre: jhkh\n",
      "Apellidos: ghf\n",
      "Edad: fh\n",
      "Domicilio: fh\n",
      "Clave: gh\n",
      "Curp: fgfh\n",
      "Fecha: ggfh\n",
      "Seccion: fg\n",
      "Registro: hfdh\n",
      "Vigencia: fh\n",
      "Sexo: gfh\n"
     ]
    }
   ],
   "source": [
    "def solicitar_info_ine():\n",
    "    info_ine = {}\n",
    "    info_ine['Nombre'] = input(\"Nombre: \")\n",
    "    info_ine['Apellidos'] = input(\"Apellidos: \")\n",
    "    info_ine['Edad'] = input(\"Edad: \")\n",
    "    info_ine['Domicilio'] = input(\"Domicilio: \")\n",
    "    info_ine['Clave'] = input(\"Clave de Elector: \")\n",
    "    info_ine['Curp'] = input(\"Curp: \")\n",
    "    info_ine['Fecha'] = input(\"Fecha de nacimiento: \")\n",
    "    info_ine['Seccion'] = input(\"Numero de seccion: \")\n",
    "    info_ine['Registro'] = input(\"Año de registro: \")\n",
    "    info_ine['Vigencia'] = input(\"Año de vigencia: \")\n",
    "    info_ine['Sexo'] = input(\"Sexo: \")\n",
    "    return info_ine\n",
    "\n",
    "def guardar_datos_archivo(info_ine, nombre_archivo):\n",
    "    with open(nombre_archivo, \"w\") as archivo:\n",
    "        for clave, valor in info_ine.items():\n",
    "            archivo.write(f\"{clave}: {valor}\\n\")\n",
    "\n",
    "def leer_y_mostrar_datos_desde_archivo(nombre_archivo):\n",
    "    with open(nombre_archivo, \"r\") as archivo:\n",
    "        for linea in archivo:\n",
    "            print(linea.strip())\n",
    "\n",
    "info_ine = solicitar_info_ine()\n",
    "\n",
    "nombre_archivo = \"info_ine.txt\"\n",
    "\n",
    "guardar_datos_archivo(info_ine, nombre_archivo)\n",
    "\n",
    "print(\"\\nDatos almacenados en el archivo:\")\n",
    "leer_y_mostrar_datos_desde_archivo(nombre_archivo)\n"
   ]
  },
  {
   "cell_type": "code",
   "execution_count": null,
   "id": "47c770fe",
   "metadata": {},
   "outputs": [],
   "source": []
  }
 ],
 "metadata": {
  "kernelspec": {
   "display_name": "Python 3 (ipykernel)",
   "language": "python",
   "name": "python3"
  },
  "language_info": {
   "codemirror_mode": {
    "name": "ipython",
    "version": 3
   },
   "file_extension": ".py",
   "mimetype": "text/x-python",
   "name": "python",
   "nbconvert_exporter": "python",
   "pygments_lexer": "ipython3",
   "version": "3.11.4"
  }
 },
 "nbformat": 4,
 "nbformat_minor": 5
}
