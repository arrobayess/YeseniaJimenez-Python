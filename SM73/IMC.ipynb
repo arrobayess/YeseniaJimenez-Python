{
 "cells": [
  {
   "cell_type": "code",
   "execution_count": 3,
   "id": "7046efc8",
   "metadata": {},
   "outputs": [
    {
     "name": "stdout",
     "output_type": "stream",
     "text": [
      "Yesenia Jimenez Poot está en Normal: IMC 24.0\n"
     ]
    }
   ],
   "source": [
    "from datoss import datos_persona\n",
    "\n",
    "def calcular_imc(persona):\n",
    "    nombre_persona = persona[\"nombre\"]\n",
    "    apellido_paterno = persona[\"apellido_paterno\"]\n",
    "    apellido_materno = persona[\"apellido_materno\"]\n",
    "    peso_persona = persona[\"peso\"]\n",
    "    altura_persona = persona[\"estatura\"]\n",
    "\n",
    "    imc_persona = peso_persona / altura_persona ** 2\n",
    "\n",
    "    categorias_imc = [\n",
    "        (18.5, \"Bajo peso\"),\n",
    "        (24.9, \"Normal\"),\n",
    "        (29.9, \"Sobrepeso\"),\n",
    "        (34.9, \"Obesidad 1\"),\n",
    "        (39.9, \"Obesidad 2\"),\n",
    "        (40.9, \"Obesidad 3\"),\n",
    "        (float('inf'), \"Obesidad 3\")\n",
    "    ]\n",
    "\n",
    "    for limite, descripcion in categorias_imc:\n",
    "        if imc_persona <= limite:\n",
    "            print(f\"{nombre_persona} {apellido_paterno} {apellido_materno} está en {descripcion}: IMC {round(imc_persona, 1)}\")\n",
    "            break\n",
    "\n",
    "calcular_imc(datos_persona)\n"
   ]
  },
  {
   "cell_type": "code",
   "execution_count": null,
   "id": "cb6f55d1",
   "metadata": {},
   "outputs": [],
   "source": []
  }
 ],
 "metadata": {
  "kernelspec": {
   "display_name": "Python 3 (ipykernel)",
   "language": "python",
   "name": "python3"
  },
  "language_info": {
   "codemirror_mode": {
    "name": "ipython",
    "version": 3
   },
   "file_extension": ".py",
   "mimetype": "text/x-python",
   "name": "python",
   "nbconvert_exporter": "python",
   "pygments_lexer": "ipython3",
   "version": "3.11.4"
  }
 },
 "nbformat": 4,
 "nbformat_minor": 5
}
