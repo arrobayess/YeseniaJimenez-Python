{
 "cells": [
  {
   "cell_type": "code",
   "execution_count": 6,
   "id": "5ed05896",
   "metadata": {
    "scrolled": true
   },
   "outputs": [
    {
     "name": "stdout",
     "output_type": "stream",
     "text": [
      "'Taylor Swift: The Eras Tour Movie' setlist\n",
      "\n",
      "Lover\n",
      "• 'Miss Americana & the Heartbreak Prince'\n",
      "• 'Cruel Summer'\n",
      "• 'The Man'\n",
      "• 'You Need to Calm Down'\n",
      "• 'Lover'\n",
      "\n",
      "Fearless\n",
      "• 'Fearless'\n",
      "• 'You Belong With Me'\n",
      "• 'Love Story'\n",
      "\n",
      "Evermore\n",
      "• 'Willow'\n",
      "• 'Marjorie'\n",
      "• 'Champagne Problems'\n",
      "• 'Tolerate It'\n",
      "\n",
      "Reputation\n",
      "• '...Ready for It?'\n",
      "• 'Delicate'\n",
      "• 'Don't Blame Me'\n",
      "• 'Look What You Made Me Do'\n",
      "\n",
      "Speak Now\n",
      "• 'Enchanted'\n",
      "\n",
      "Red\n",
      "• '22'\n",
      "• 'We Are Never Ever Getting Back Together'\n",
      "• 'I Knew You Were Trouble'\n",
      "• 'All Too Well'\n",
      "\n",
      "Folklore\n",
      "• 'The 1'\n",
      "• 'Betty'\n",
      "• 'The Last Great American Dynasty'\n",
      "• 'August'\n",
      "• 'Illicit Affairs'\n",
      "• 'My Tears Ricochet'\n",
      "\n",
      "1989\n",
      "• 'Style'\n",
      "• 'Blank Space'\n",
      "• 'Shake It Off'\n",
      "• 'Bad Blood'\n",
      "\n",
      "Canciones sorpresa\n",
      "• 'Our Song' (24 de agosto)\n",
      "• 'Snow on the beach' (25 de agosto)\n",
      "• 'You're on Your Own, Kid' (25 de agosto)\n",
      "\n",
      "Midnights\n",
      "• 'Lavender Haze'\n",
      "• 'Anti-Hero'\n",
      "• 'Midnight Rain'\n",
      "• 'Vigilante Shit'\n",
      "• 'Bejeweled'\n",
      "• 'Mastermind'\n",
      "• 'Karma'\n"
     ]
    }
   ],
   "source": [
    "#leer txt\n",
    "\n",
    "def leer_archivo(nombre_archivo):\n",
    "    try:\n",
    "        with open(nombre_archivo, \"r\") as archivo:\n",
    "            contenido = archivo.read()\n",
    "            print(contenido)\n",
    "    except FileNotFoundError:\n",
    "        print(f\"El archivo '{nombre_archivo}' no existe.\")\n",
    "\n",
    "nombre_archivo = \"The eras tour.txt\"\n",
    "\n",
    "leer_archivo(nombre_archivo)"
   ]
  },
  {
   "cell_type": "code",
   "execution_count": 9,
   "id": "0b3b792f",
   "metadata": {
    "scrolled": true
   },
   "outputs": [
    {
     "ename": "ModuleNotFoundError",
     "evalue": "No module named 'PyPDF2'",
     "output_type": "error",
     "traceback": [
      "\u001b[1;31m---------------------------------------------------------------------------\u001b[0m",
      "\u001b[1;31mModuleNotFoundError\u001b[0m                       Traceback (most recent call last)",
      "Cell \u001b[1;32mIn[9], line 3\u001b[0m\n\u001b[0;32m      1\u001b[0m \u001b[38;5;66;03m#leer pdf\u001b[39;00m\n\u001b[1;32m----> 3\u001b[0m \u001b[38;5;28;01mimport\u001b[39;00m \u001b[38;5;21;01mPyPDF2\u001b[39;00m\n\u001b[0;32m      5\u001b[0m \u001b[38;5;28;01mdef\u001b[39;00m \u001b[38;5;21mleer_archivo_pdf\u001b[39m(nombre_archivo):\n\u001b[0;32m      6\u001b[0m     \u001b[38;5;28;01mtry\u001b[39;00m:\n",
      "\u001b[1;31mModuleNotFoundError\u001b[0m: No module named 'PyPDF2'"
     ]
    }
   ],
   "source": [
    "#leer pdf\n",
    "\n",
    "import PyPDF2\n",
    "\n",
    "def leer_archivo_pdf(nombre_archivo):\n",
    "    try:\n",
    "        with open(nombre_archivo, \"rb\") as archivo:\n",
    "            pdf_reader = PyPDF2.PdfReader(archivo)  # Cambia PdfFileReader a PdfReader\n",
    "            for page_num in range(len(pdf_reader.pages)):\n",
    "                page = pdf_reader.pages[page_num]\n",
    "                print(page.extract_text())\n",
    "    except FileNotFoundError:\n",
    "        print(f\"El archivo '{nombre_archivo}' no existe.\")\n",
    "\n",
    "nombre_archivo_pdf = \"JimenezYesenia.pdf\"\n",
    "leer_archivo_pdf(nombre_archivo_pdf)"
   ]
  },
  {
   "cell_type": "code",
   "execution_count": 1,
   "id": "d6eb9a12",
   "metadata": {},
   "outputs": [
    {
     "ename": "ModuleNotFoundError",
     "evalue": "No module named 'docx'",
     "output_type": "error",
     "traceback": [
      "\u001b[1;31m---------------------------------------------------------------------------\u001b[0m",
      "\u001b[1;31mModuleNotFoundError\u001b[0m                       Traceback (most recent call last)",
      "Cell \u001b[1;32mIn[1], line 1\u001b[0m\n\u001b[1;32m----> 1\u001b[0m \u001b[38;5;28;01mfrom\u001b[39;00m \u001b[38;5;21;01mdocx\u001b[39;00m \u001b[38;5;28;01mimport\u001b[39;00m Document\n\u001b[0;32m      3\u001b[0m path \u001b[38;5;241m=\u001b[39m \u001b[38;5;124m'\u001b[39m\u001b[38;5;124mEquipo 3.docx\u001b[39m\u001b[38;5;124m'\u001b[39m\n\u001b[0;32m      5\u001b[0m \u001b[38;5;66;03m# Abre el documento Word\u001b[39;00m\n",
      "\u001b[1;31mModuleNotFoundError\u001b[0m: No module named 'docx'"
     ]
    }
   ],
   "source": [
    "from docx import Document\n",
    "\n",
    "path = 'Equipo 3.docx'\n",
    "\n",
    "# Abre el documento Word\n",
    "doc = Document(path)\n",
    "\n",
    "# Itera a través de los párrafos del documento\n",
    "for paragraph in doc.paragraphs:\n",
    "    print(paragraph.text)\n"
   ]
  },
  {
   "cell_type": "code",
   "execution_count": 2,
   "id": "4fa88f87",
   "metadata": {},
   "outputs": [
    {
     "name": "stdout",
     "output_type": "stream",
     "text": [
      "  Unnamed: 0 Unnamed: 1 Unnamed: 2 Unnamed: 3 Unnamed: 4\n",
      "0        NaN        NaN        NaN        NaN        NaN\n",
      "1         rt       rtrt       srte     tesert     erster\n",
      "2          e         re     ttsret        rtr      rtets\n"
     ]
    }
   ],
   "source": [
    "import pandas as pd\n",
    "\n",
    "# Ruta al archivo Excel\n",
    "path = 'hola.xlsx'\n",
    "\n",
    "# Carga el archivo Excel en un DataFrame de pandas\n",
    "df = pd.read_excel(path)\n",
    "\n",
    "# Muestra el contenido del DataFrame\n",
    "print(df)\n"
   ]
  },
  {
   "cell_type": "code",
   "execution_count": null,
   "id": "c9b87dee",
   "metadata": {},
   "outputs": [],
   "source": []
  }
 ],
 "metadata": {
  "kernelspec": {
   "display_name": "Python 3 (ipykernel)",
   "language": "python",
   "name": "python3"
  },
  "language_info": {
   "codemirror_mode": {
    "name": "ipython",
    "version": 3
   },
   "file_extension": ".py",
   "mimetype": "text/x-python",
   "name": "python",
   "nbconvert_exporter": "python",
   "pygments_lexer": "ipython3",
   "version": "3.11.4"
  }
 },
 "nbformat": 4,
 "nbformat_minor": 5
}
