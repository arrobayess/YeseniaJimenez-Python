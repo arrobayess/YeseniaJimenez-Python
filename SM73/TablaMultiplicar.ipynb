{
 "cells": [
  {
   "cell_type": "code",
   "execution_count": 6,
   "id": "4e89bed2",
   "metadata": {},
   "outputs": [
    {
     "name": "stdout",
     "output_type": "stream",
     "text": [
      "Ingrese el número inicial de la tabla: 2\n",
      "Ingrese el número final de la tabla: 4\n",
      "Ingrese cuántas veces se multiplicará en cada tabla: 2\n",
      "Ingrese desde qué número empezar a multiplicar: 2\n",
      "Tabla de multiplicar del 2:\n",
      "2 x 2 = 4\n",
      "2 x 3 = 6\n",
      "\n",
      "Tabla de multiplicar del 3:\n",
      "3 x 2 = 6\n",
      "3 x 3 = 9\n",
      "\n",
      "Tabla de multiplicar del 4:\n",
      "4 x 2 = 8\n",
      "4 x 3 = 12\n",
      "\n"
     ]
    }
   ],
   "source": [
    "inicio_tabla = int(input(\"Ingrese el número inicial de la tabla: \"))\n",
    "fin_tabla = int(input(\"Ingrese el número final de la tabla: \"))\n",
    "veces_a_multiplicar = int(input(\"Ingrese cuántas veces se multiplicará en cada tabla: \"))\n",
    "inicio_multiplicacion = int(input(\"Ingrese desde qué número empezar a multiplicar: \"))\n",
    "\n",
    "if inicio_tabla <= fin_tabla and veces_a_multiplicar > 0 and inicio_multiplicacion >= 1:\n",
    "    for factor1 in range(inicio_tabla, fin_tabla + 1):\n",
    "        print(f'Tabla de multiplicar del {factor1}:')\n",
    "        for factor2 in range(inicio_multiplicacion, inicio_multiplicacion + veces_a_multiplicar):\n",
    "            resultado = factor1 * factor2\n",
    "            print(f'{factor1} x {factor2} = {resultado}')\n",
    "        print()\n",
    "\n"
   ]
  },
  {
   "cell_type": "code",
   "execution_count": null,
   "id": "5a4134ac",
   "metadata": {},
   "outputs": [],
   "source": []
  }
 ],
 "metadata": {
  "kernelspec": {
   "display_name": "Python 3 (ipykernel)",
   "language": "python",
   "name": "python3"
  },
  "language_info": {
   "codemirror_mode": {
    "name": "ipython",
    "version": 3
   },
   "file_extension": ".py",
   "mimetype": "text/x-python",
   "name": "python",
   "nbconvert_exporter": "python",
   "pygments_lexer": "ipython3",
   "version": "3.11.4"
  }
 },
 "nbformat": 4,
 "nbformat_minor": 5
}
